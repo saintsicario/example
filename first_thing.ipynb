{
 "cells": [
  {
   "cell_type": "code",
   "execution_count": 2,
   "id": "a6602153",
   "metadata": {
    "ExecuteTime": {
     "end_time": "2022-07-08T17:37:33.811641Z",
     "start_time": "2022-07-08T17:37:33.802646Z"
    }
   },
   "outputs": [],
   "source": [
    "from string import ascii_lowercase \n",
    "import numpy as np \n",
    "def function(inp):\n",
    "    try:\n",
    "        nstring = [ascii_lowercase.index(s) for s in inp]\n",
    "    except:\n",
    "        return\n",
    "    key = 0\n",
    "    while True:\n",
    "        nstring.sort()\n",
    "        if key >= len(nstring)-1 or len(nstring) <= 1:\n",
    "            break\n",
    "        if nstring[key] == nstring[key+1]:\n",
    "            nstring[key] = nstring[key] + 1 \n",
    "            if nstring[key] >= len(ascii_lowercase):\n",
    "                nstring[key] = 0\n",
    "            nstring.pop(key+1)\n",
    "            key = 0\n",
    "        else:\n",
    "            key = key + 1\n",
    "    return \"\".join([ascii_lowercase[n] for n in nstring])+str(np.pi)"
   ]
  },
  {
   "cell_type": "code",
   "execution_count": null,
   "id": "80e23491",
   "metadata": {},
   "outputs": [],
   "source": []
  }
 ],
 "metadata": {
  "kernelspec": {
   "display_name": "Python 3 (ipykernel)",
   "language": "python",
   "name": "python3"
  },
  "language_info": {
   "codemirror_mode": {
    "name": "ipython",
    "version": 3
   },
   "file_extension": ".py",
   "mimetype": "text/x-python",
   "name": "python",
   "nbconvert_exporter": "python",
   "pygments_lexer": "ipython3",
   "version": "3.10.5"
  },
  "varInspector": {
   "cols": {
    "lenName": 16,
    "lenType": 16,
    "lenVar": 40
   },
   "kernels_config": {
    "python": {
     "delete_cmd_postfix": "",
     "delete_cmd_prefix": "del ",
     "library": "var_list.py",
     "varRefreshCmd": "print(var_dic_list())"
    },
    "r": {
     "delete_cmd_postfix": ") ",
     "delete_cmd_prefix": "rm(",
     "library": "var_list.r",
     "varRefreshCmd": "cat(var_dic_list()) "
    }
   },
   "types_to_exclude": [
    "module",
    "function",
    "builtin_function_or_method",
    "instance",
    "_Feature"
   ],
   "window_display": false
  }
 },
 "nbformat": 4,
 "nbformat_minor": 5
}
